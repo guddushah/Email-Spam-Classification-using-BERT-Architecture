{
 "cells": [
  {
   "cell_type": "markdown",
   "id": "deecb4d3-40bf-4468-9c85-a9ed975f9afc",
   "metadata": {},
   "source": [
    "# Email Spam Classification"
   ]
  },
  {
   "cell_type": "code",
   "execution_count": 43,
   "id": "2cf361d6-6b77-429b-85ba-09b080450c3c",
   "metadata": {},
   "outputs": [],
   "source": [
    "import tensorflow as tf\n",
    "import tensorflow_hub as hub\n",
    "import tensorflow_text as text"
   ]
  },
  {
   "cell_type": "code",
   "execution_count": 2,
   "id": "44bb0c85-7d34-42a1-b7e0-87fcdfabab50",
   "metadata": {},
   "outputs": [
    {
     "data": {
      "text/html": [
       "<div>\n",
       "<style scoped>\n",
       "    .dataframe tbody tr th:only-of-type {\n",
       "        vertical-align: middle;\n",
       "    }\n",
       "\n",
       "    .dataframe tbody tr th {\n",
       "        vertical-align: top;\n",
       "    }\n",
       "\n",
       "    .dataframe thead th {\n",
       "        text-align: right;\n",
       "    }\n",
       "</style>\n",
       "<table border=\"1\" class=\"dataframe\">\n",
       "  <thead>\n",
       "    <tr style=\"text-align: right;\">\n",
       "      <th></th>\n",
       "      <th>Category</th>\n",
       "      <th>Message</th>\n",
       "    </tr>\n",
       "  </thead>\n",
       "  <tbody>\n",
       "    <tr>\n",
       "      <th>0</th>\n",
       "      <td>ham</td>\n",
       "      <td>Go until jurong point, crazy.. Available only ...</td>\n",
       "    </tr>\n",
       "    <tr>\n",
       "      <th>1</th>\n",
       "      <td>ham</td>\n",
       "      <td>Ok lar... Joking wif u oni...</td>\n",
       "    </tr>\n",
       "    <tr>\n",
       "      <th>2</th>\n",
       "      <td>spam</td>\n",
       "      <td>Free entry in 2 a wkly comp to win FA Cup fina...</td>\n",
       "    </tr>\n",
       "    <tr>\n",
       "      <th>3</th>\n",
       "      <td>ham</td>\n",
       "      <td>U dun say so early hor... U c already then say...</td>\n",
       "    </tr>\n",
       "    <tr>\n",
       "      <th>4</th>\n",
       "      <td>ham</td>\n",
       "      <td>Nah I don't think he goes to usf, he lives aro...</td>\n",
       "    </tr>\n",
       "  </tbody>\n",
       "</table>\n",
       "</div>"
      ],
      "text/plain": [
       "  Category                                            Message\n",
       "0      ham  Go until jurong point, crazy.. Available only ...\n",
       "1      ham                      Ok lar... Joking wif u oni...\n",
       "2     spam  Free entry in 2 a wkly comp to win FA Cup fina...\n",
       "3      ham  U dun say so early hor... U c already then say...\n",
       "4      ham  Nah I don't think he goes to usf, he lives aro..."
      ]
     },
     "execution_count": 2,
     "metadata": {},
     "output_type": "execute_result"
    }
   ],
   "source": [
    "import pandas as pd\n",
    "\n",
    "df = pd.read_csv(\"data.csv\")\n",
    "df.head()"
   ]
  },
  {
   "cell_type": "code",
   "execution_count": 5,
   "id": "32f6ca7f-c912-4a37-bf13-185c595dc38b",
   "metadata": {},
   "outputs": [
    {
     "data": {
      "text/html": [
       "<div>\n",
       "<style scoped>\n",
       "    .dataframe tbody tr th:only-of-type {\n",
       "        vertical-align: middle;\n",
       "    }\n",
       "\n",
       "    .dataframe tbody tr th {\n",
       "        vertical-align: top;\n",
       "    }\n",
       "\n",
       "    .dataframe thead tr th {\n",
       "        text-align: left;\n",
       "    }\n",
       "\n",
       "    .dataframe thead tr:last-of-type th {\n",
       "        text-align: right;\n",
       "    }\n",
       "</style>\n",
       "<table border=\"1\" class=\"dataframe\">\n",
       "  <thead>\n",
       "    <tr>\n",
       "      <th></th>\n",
       "      <th colspan=\"4\" halign=\"left\">Message</th>\n",
       "    </tr>\n",
       "    <tr>\n",
       "      <th></th>\n",
       "      <th>count</th>\n",
       "      <th>unique</th>\n",
       "      <th>top</th>\n",
       "      <th>freq</th>\n",
       "    </tr>\n",
       "    <tr>\n",
       "      <th>Category</th>\n",
       "      <th></th>\n",
       "      <th></th>\n",
       "      <th></th>\n",
       "      <th></th>\n",
       "    </tr>\n",
       "  </thead>\n",
       "  <tbody>\n",
       "    <tr>\n",
       "      <th>ham</th>\n",
       "      <td>4825</td>\n",
       "      <td>4516</td>\n",
       "      <td>Sorry, I'll call later</td>\n",
       "      <td>30</td>\n",
       "    </tr>\n",
       "    <tr>\n",
       "      <th>spam</th>\n",
       "      <td>747</td>\n",
       "      <td>641</td>\n",
       "      <td>Please call our customer service representativ...</td>\n",
       "      <td>4</td>\n",
       "    </tr>\n",
       "  </tbody>\n",
       "</table>\n",
       "</div>"
      ],
      "text/plain": [
       "         Message                                                            \\\n",
       "           count unique                                                top   \n",
       "Category                                                                     \n",
       "ham         4825   4516                             Sorry, I'll call later   \n",
       "spam         747    641  Please call our customer service representativ...   \n",
       "\n",
       "               \n",
       "         freq  \n",
       "Category       \n",
       "ham        30  \n",
       "spam        4  "
      ]
     },
     "execution_count": 5,
     "metadata": {},
     "output_type": "execute_result"
    }
   ],
   "source": [
    "df.groupby('Category').describe()"
   ]
  },
  {
   "cell_type": "markdown",
   "id": "836658eb-7338-4b65-84c1-efc660875bd0",
   "metadata": {},
   "source": [
    "### Handling Imbalanced Data"
   ]
  },
  {
   "cell_type": "code",
   "execution_count": 7,
   "id": "2484b29c-1f68-4107-b05a-a001087671c1",
   "metadata": {},
   "outputs": [
    {
     "data": {
      "text/plain": [
       "Category\n",
       "ham     4825\n",
       "spam     747\n",
       "Name: count, dtype: int64"
      ]
     },
     "execution_count": 7,
     "metadata": {},
     "output_type": "execute_result"
    }
   ],
   "source": [
    "df['Category'].value_counts()"
   ]
  },
  {
   "cell_type": "code",
   "execution_count": 9,
   "id": "d77a320e-4066-4ffe-ba2f-3c8315c72192",
   "metadata": {},
   "outputs": [
    {
     "data": {
      "text/plain": [
       "(747, 2)"
      ]
     },
     "execution_count": 9,
     "metadata": {},
     "output_type": "execute_result"
    }
   ],
   "source": [
    "df_spam = df[df['Category']=='spam']\n",
    "df_spam.shape"
   ]
  },
  {
   "cell_type": "code",
   "execution_count": 11,
   "id": "6618d179-70bf-4bb7-8377-20bf0c8b36ac",
   "metadata": {},
   "outputs": [
    {
     "data": {
      "text/plain": [
       "(4825, 2)"
      ]
     },
     "execution_count": 11,
     "metadata": {},
     "output_type": "execute_result"
    }
   ],
   "source": [
    "df_ham = df[df['Category']=='ham']\n",
    "df_ham.shape"
   ]
  },
  {
   "cell_type": "code",
   "execution_count": 15,
   "id": "c7c44787-50d1-4e38-9323-fa1cc8b7cbb2",
   "metadata": {},
   "outputs": [
    {
     "data": {
      "text/plain": [
       "(747, 2)"
      ]
     },
     "execution_count": 15,
     "metadata": {},
     "output_type": "execute_result"
    }
   ],
   "source": [
    "df_ham_downsampled = df_ham.sample(df_spam.shape[0])\n",
    "df_ham_downsampled.shape"
   ]
  },
  {
   "cell_type": "code",
   "execution_count": 17,
   "id": "df14e57e-5b8c-42e1-982f-e59a7e0e3ca0",
   "metadata": {},
   "outputs": [
    {
     "data": {
      "text/plain": [
       "(1494, 2)"
      ]
     },
     "execution_count": 17,
     "metadata": {},
     "output_type": "execute_result"
    }
   ],
   "source": [
    "df_balanced = pd.concat([df_spam,df_ham_downsampled])\n",
    "df_balanced.shape"
   ]
  },
  {
   "cell_type": "code",
   "execution_count": 18,
   "id": "892070e1-a2f5-4349-b9b2-6f68da85e7f7",
   "metadata": {},
   "outputs": [
    {
     "data": {
      "text/plain": [
       "Category\n",
       "spam    747\n",
       "ham     747\n",
       "Name: count, dtype: int64"
      ]
     },
     "execution_count": 18,
     "metadata": {},
     "output_type": "execute_result"
    }
   ],
   "source": [
    "df_balanced['Category'].value_counts()"
   ]
  },
  {
   "cell_type": "code",
   "execution_count": 20,
   "id": "41612d53-e4c9-4d6b-acdd-c2f8a0e3165f",
   "metadata": {},
   "outputs": [
    {
     "data": {
      "text/html": [
       "<div>\n",
       "<style scoped>\n",
       "    .dataframe tbody tr th:only-of-type {\n",
       "        vertical-align: middle;\n",
       "    }\n",
       "\n",
       "    .dataframe tbody tr th {\n",
       "        vertical-align: top;\n",
       "    }\n",
       "\n",
       "    .dataframe thead th {\n",
       "        text-align: right;\n",
       "    }\n",
       "</style>\n",
       "<table border=\"1\" class=\"dataframe\">\n",
       "  <thead>\n",
       "    <tr style=\"text-align: right;\">\n",
       "      <th></th>\n",
       "      <th>Category</th>\n",
       "      <th>Message</th>\n",
       "    </tr>\n",
       "  </thead>\n",
       "  <tbody>\n",
       "    <tr>\n",
       "      <th>533</th>\n",
       "      <td>ham</td>\n",
       "      <td>Gudnite....tc...practice going on</td>\n",
       "    </tr>\n",
       "    <tr>\n",
       "      <th>2271</th>\n",
       "      <td>ham</td>\n",
       "      <td>U know we watchin at lido?</td>\n",
       "    </tr>\n",
       "    <tr>\n",
       "      <th>5199</th>\n",
       "      <td>ham</td>\n",
       "      <td>Ugh my leg hurts. Musta overdid it on mon.</td>\n",
       "    </tr>\n",
       "    <tr>\n",
       "      <th>203</th>\n",
       "      <td>ham</td>\n",
       "      <td>Your account has been refilled successfully by...</td>\n",
       "    </tr>\n",
       "    <tr>\n",
       "      <th>4717</th>\n",
       "      <td>ham</td>\n",
       "      <td>Hey. What happened? U switch off ur cell d who...</td>\n",
       "    </tr>\n",
       "  </tbody>\n",
       "</table>\n",
       "</div>"
      ],
      "text/plain": [
       "     Category                                            Message\n",
       "533       ham                  Gudnite....tc...practice going on\n",
       "2271      ham                         U know we watchin at lido?\n",
       "5199      ham         Ugh my leg hurts. Musta overdid it on mon.\n",
       "203       ham  Your account has been refilled successfully by...\n",
       "4717      ham  Hey. What happened? U switch off ur cell d who..."
      ]
     },
     "execution_count": 20,
     "metadata": {},
     "output_type": "execute_result"
    }
   ],
   "source": [
    "df_balanced.sample(5)"
   ]
  },
  {
   "cell_type": "code",
   "execution_count": 22,
   "id": "473455b4-22b9-4f70-a2a8-495daaef2746",
   "metadata": {},
   "outputs": [
    {
     "data": {
      "text/html": [
       "<div>\n",
       "<style scoped>\n",
       "    .dataframe tbody tr th:only-of-type {\n",
       "        vertical-align: middle;\n",
       "    }\n",
       "\n",
       "    .dataframe tbody tr th {\n",
       "        vertical-align: top;\n",
       "    }\n",
       "\n",
       "    .dataframe thead th {\n",
       "        text-align: right;\n",
       "    }\n",
       "</style>\n",
       "<table border=\"1\" class=\"dataframe\">\n",
       "  <thead>\n",
       "    <tr style=\"text-align: right;\">\n",
       "      <th></th>\n",
       "      <th>Category</th>\n",
       "      <th>Message</th>\n",
       "      <th>spam</th>\n",
       "    </tr>\n",
       "  </thead>\n",
       "  <tbody>\n",
       "    <tr>\n",
       "      <th>3442</th>\n",
       "      <td>spam</td>\n",
       "      <td>Get a FREE mobile video player FREE movie. To ...</td>\n",
       "      <td>1</td>\n",
       "    </tr>\n",
       "    <tr>\n",
       "      <th>2367</th>\n",
       "      <td>spam</td>\n",
       "      <td>Tone Club: Your subs has now expired 2 re-sub ...</td>\n",
       "      <td>1</td>\n",
       "    </tr>\n",
       "    <tr>\n",
       "      <th>967</th>\n",
       "      <td>ham</td>\n",
       "      <td>I am not sure about night menu. . . I know onl...</td>\n",
       "      <td>0</td>\n",
       "    </tr>\n",
       "    <tr>\n",
       "      <th>1482</th>\n",
       "      <td>ham</td>\n",
       "      <td>I'm a guy, browsin is compulsory</td>\n",
       "      <td>0</td>\n",
       "    </tr>\n",
       "    <tr>\n",
       "      <th>1820</th>\n",
       "      <td>ham</td>\n",
       "      <td>Dunno dat's wat he told me. Ok lor...</td>\n",
       "      <td>0</td>\n",
       "    </tr>\n",
       "    <tr>\n",
       "      <th>1564</th>\n",
       "      <td>ham</td>\n",
       "      <td>Get ready to put on your excellent sub face :)</td>\n",
       "      <td>0</td>\n",
       "    </tr>\n",
       "    <tr>\n",
       "      <th>707</th>\n",
       "      <td>ham</td>\n",
       "      <td>So when do you wanna gym harri</td>\n",
       "      <td>0</td>\n",
       "    </tr>\n",
       "    <tr>\n",
       "      <th>34</th>\n",
       "      <td>spam</td>\n",
       "      <td>Thanks for your subscription to Ringtone UK yo...</td>\n",
       "      <td>1</td>\n",
       "    </tr>\n",
       "    <tr>\n",
       "      <th>349</th>\n",
       "      <td>spam</td>\n",
       "      <td>Fancy a shag? I do.Interested? sextextuk.com t...</td>\n",
       "      <td>1</td>\n",
       "    </tr>\n",
       "    <tr>\n",
       "      <th>3621</th>\n",
       "      <td>ham</td>\n",
       "      <td>I meant as an apology from me for texting you ...</td>\n",
       "      <td>0</td>\n",
       "    </tr>\n",
       "  </tbody>\n",
       "</table>\n",
       "</div>"
      ],
      "text/plain": [
       "     Category                                            Message  spam\n",
       "3442     spam  Get a FREE mobile video player FREE movie. To ...     1\n",
       "2367     spam  Tone Club: Your subs has now expired 2 re-sub ...     1\n",
       "967       ham  I am not sure about night menu. . . I know onl...     0\n",
       "1482      ham                   I'm a guy, browsin is compulsory     0\n",
       "1820      ham              Dunno dat's wat he told me. Ok lor...     0\n",
       "1564      ham     Get ready to put on your excellent sub face :)     0\n",
       "707       ham                     So when do you wanna gym harri     0\n",
       "34       spam  Thanks for your subscription to Ringtone UK yo...     1\n",
       "349      spam  Fancy a shag? I do.Interested? sextextuk.com t...     1\n",
       "3621      ham  I meant as an apology from me for texting you ...     0"
      ]
     },
     "execution_count": 22,
     "metadata": {},
     "output_type": "execute_result"
    }
   ],
   "source": [
    "df_balanced['spam']=df_balanced['Category'].apply(lambda x: 1 if x=='spam' else 0)\n",
    "df_balanced.sample(10)"
   ]
  },
  {
   "cell_type": "code",
   "execution_count": 48,
   "id": "79a7f269-54b6-4473-9357-152b86696ff5",
   "metadata": {},
   "outputs": [],
   "source": [
    "from sklearn.model_selection import train_test_split\n",
    "\n",
    "X_train, X_test, y_train, y_test = train_test_split(df_balanced['Message'],df_balanced['spam'],stratify=df_balanced['spam'])"
   ]
  },
  {
   "cell_type": "code",
   "execution_count": 25,
   "id": "597c894b-4bc4-4c25-afc5-47e429cdb677",
   "metadata": {},
   "outputs": [
    {
     "data": {
      "text/plain": [
       "1909    Hello beautiful r u ok? I've kinda ad a row wi...\n",
       "5349                                          I'm home...\n",
       "4159    It certainly puts things into perspective when...\n",
       "5030    I'd like to tell you my deepest darkest fantas...\n",
       "1048    1000's flirting NOW! Txt GIRL or BLOKE & ur NA...\n",
       "Name: Message, dtype: object"
      ]
     },
     "execution_count": 25,
     "metadata": {},
     "output_type": "execute_result"
    }
   ],
   "source": [
    "X_train.head()"
   ]
  },
  {
   "cell_type": "markdown",
   "id": "6784860c-231a-4830-90fd-366fa82a444e",
   "metadata": {},
   "source": [
    "### Using BERT Architecture"
   ]
  },
  {
   "cell_type": "code",
   "execution_count": 36,
   "id": "113fc003-7be9-4cd3-bd5e-6e4fd261d351",
   "metadata": {},
   "outputs": [],
   "source": [
    "bert_preprocess = hub.KerasLayer(\"https://tfhub.dev/tensorflow/bert_en_uncased_preprocess/3\")\n",
    "bert_encoder = hub.KerasLayer(\"https://tfhub.dev/tensorflow/bert_en_uncased_L-12_H-768_A-12/4\")"
   ]
  },
  {
   "cell_type": "code",
   "execution_count": 37,
   "id": "5188eb73-72a4-4527-91a9-7c3bddf27ee4",
   "metadata": {},
   "outputs": [
    {
     "data": {
      "text/plain": [
       "<tf.Tensor: shape=(2, 768), dtype=float32, numpy=\n",
       "array([[-0.9292573 , -0.4952517 , -0.7811866 , ..., -0.5513055 ,\n",
       "        -0.70145005,  0.93369305],\n",
       "       [-0.8724278 , -0.41763785, -0.90140533, ..., -0.69138736,\n",
       "        -0.7540032 ,  0.9125274 ]], dtype=float32)>"
      ]
     },
     "execution_count": 37,
     "metadata": {},
     "output_type": "execute_result"
    }
   ],
   "source": [
    "def get_sentence_embedding(sentences):\n",
    "    preprecessed_text = bert_preprocess(sentences)\n",
    "    return bert_encoder(preprecessed_text)['pooled_output']\n",
    "\n",
    "get_sentence_embedding([\n",
    "    \"Hello my friend how are you\",\n",
    "    \"I am fine thankyou, what about you?\"]\n",
    "                      )"
   ]
  },
  {
   "cell_type": "code",
   "execution_count": 38,
   "id": "1bd67ee6-145f-45c7-8dd4-1401c3302367",
   "metadata": {},
   "outputs": [],
   "source": [
    "e = get_sentence_embedding([\n",
    "    'apple',\n",
    "    'mango',\n",
    "    'banana',\n",
    "    'elon musk',\n",
    "    'jeff bezos'\n",
    "])"
   ]
  },
  {
   "cell_type": "code",
   "execution_count": 39,
   "id": "670d83ca-f73c-4027-88b2-1a159b2bcf6f",
   "metadata": {},
   "outputs": [
    {
     "data": {
      "text/plain": [
       "<tf.Tensor: shape=(5, 768), dtype=float32, numpy=\n",
       "array([[-0.8196455 , -0.29609606,  0.20951834, ...,  0.2559341 ,\n",
       "        -0.5874298 ,  0.84345543],\n",
       "       [-0.71288604, -0.15463905,  0.38401675, ...,  0.3527874 ,\n",
       "        -0.5099133 ,  0.73474073],\n",
       "       [-0.7606918 , -0.14219396,  0.49604586, ...,  0.42165315,\n",
       "        -0.5322141 ,  0.80312175],\n",
       "       [-0.75041336, -0.2681263 , -0.26689765, ...,  0.02839323,\n",
       "        -0.5938099 ,  0.7974989 ],\n",
       "       [-0.82533467, -0.35550582, -0.590697  , ..., -0.01613692,\n",
       "        -0.6141757 ,  0.872303  ]], dtype=float32)>"
      ]
     },
     "execution_count": 39,
     "metadata": {},
     "output_type": "execute_result"
    }
   ],
   "source": [
    "e"
   ]
  },
  {
   "cell_type": "code",
   "execution_count": 41,
   "id": "84f7e7fb-d131-4a88-8fe0-14d380027fb0",
   "metadata": {},
   "outputs": [
    {
     "data": {
      "text/plain": [
       "array([[0.9659781]], dtype=float32)"
      ]
     },
     "execution_count": 41,
     "metadata": {},
     "output_type": "execute_result"
    }
   ],
   "source": [
    "from sklearn.metrics.pairwise import cosine_similarity\n",
    "\n",
    "cosine_similarity([e[0]],[e[2]])"
   ]
  },
  {
   "cell_type": "markdown",
   "id": "385ffdf0-58e2-417f-b46e-f1beb1f08ecc",
   "metadata": {},
   "source": [
    "### Functional Model"
   ]
  },
  {
   "cell_type": "code",
   "execution_count": 45,
   "id": "0c58b4eb-dde1-4171-bd00-6a9469ba2ee4",
   "metadata": {},
   "outputs": [],
   "source": [
    "# Bert Layers\n",
    "text_input = tf.keras.layers.Input(shape=(), dtype=tf.string, name='text')\n",
    "\n",
    "preprocessed_text = bert_preprocess(text_input)\n",
    "outputs = bert_encoder(preprocessed_text)\n",
    "\n",
    "# Neural Network Layers\n",
    "l = tf.keras.layers.Dropout(0.1,name='dropout')(outputs['pooled_output'])\n",
    "l = tf.keras.layers.Dense(1, activation='sigmoid',name='output')(l)\n",
    "\n",
    "# Construct final model\n",
    "model = tf.keras.Model(inputs=[text_input],outputs=[l])"
   ]
  },
  {
   "cell_type": "code",
   "execution_count": 46,
   "id": "e116cc94-7660-4223-8a0d-b3f8a45b7e81",
   "metadata": {},
   "outputs": [
    {
     "name": "stdout",
     "output_type": "stream",
     "text": [
      "Model: \"model\"\n",
      "__________________________________________________________________________________________________\n",
      " Layer (type)                   Output Shape         Param #     Connected to                     \n",
      "==================================================================================================\n",
      " text (InputLayer)              [(None,)]            0           []                               \n",
      "                                                                                                  \n",
      " keras_layer (KerasLayer)       {'input_word_ids':   0           ['text[0][0]']                   \n",
      "                                (None, 128),                                                      \n",
      "                                 'input_type_ids':                                                \n",
      "                                (None, 128),                                                      \n",
      "                                 'input_mask': (Non                                               \n",
      "                                e, 128)}                                                          \n",
      "                                                                                                  \n",
      " keras_layer_1 (KerasLayer)     {'default': (None,   109482241   ['keras_layer[0][0]',            \n",
      "                                768),                             'keras_layer[0][1]',            \n",
      "                                 'sequence_output':               'keras_layer[0][2]']            \n",
      "                                 (None, 128, 768),                                                \n",
      "                                 'encoder_outputs':                                               \n",
      "                                 [(None, 128, 768),                                               \n",
      "                                 (None, 128, 768),                                                \n",
      "                                 (None, 128, 768),                                                \n",
      "                                 (None, 128, 768),                                                \n",
      "                                 (None, 128, 768),                                                \n",
      "                                 (None, 128, 768),                                                \n",
      "                                 (None, 128, 768),                                                \n",
      "                                 (None, 128, 768),                                                \n",
      "                                 (None, 128, 768),                                                \n",
      "                                 (None, 128, 768),                                                \n",
      "                                 (None, 128, 768),                                                \n",
      "                                 (None, 128, 768)],                                               \n",
      "                                 'pooled_output': (                                               \n",
      "                                None, 768)}                                                       \n",
      "                                                                                                  \n",
      " dropout (Dropout)              (None, 768)          0           ['keras_layer_1[0][13]']         \n",
      "                                                                                                  \n",
      " output (Dense)                 (None, 1)            769         ['dropout[0][0]']                \n",
      "                                                                                                  \n",
      "==================================================================================================\n",
      "Total params: 109,483,010\n",
      "Trainable params: 769\n",
      "Non-trainable params: 109,482,241\n",
      "__________________________________________________________________________________________________\n"
     ]
    }
   ],
   "source": [
    "model.summary()"
   ]
  },
  {
   "cell_type": "code",
   "execution_count": 47,
   "id": "d73742d4-bc62-44d6-8bba-2fd45d5fb8a6",
   "metadata": {},
   "outputs": [],
   "source": [
    "METRICS = [\n",
    "    tf.keras.metrics.BinaryAccuracy(name='accuracy'),\n",
    "    tf.keras.metrics.Precision(name='precision'),\n",
    "    tf.keras.metrics.Recall(name='recall')\n",
    "]\n",
    "\n",
    "model.compile(optimizer='adam',\n",
    "             loss='binary_crossentropy',\n",
    "             metrics=METRICS)"
   ]
  },
  {
   "cell_type": "code",
   "execution_count": 49,
   "id": "0aac4016-3bda-4f03-878d-ec0df4bfbd18",
   "metadata": {},
   "outputs": [
    {
     "name": "stdout",
     "output_type": "stream",
     "text": [
      "Epoch 1/10\n",
      "35/35 [==============================] - 489s 13s/step - loss: 0.6024 - accuracy: 0.6839 - precision: 0.6853 - recall: 0.6804\n",
      "Epoch 2/10\n",
      "35/35 [==============================] - 449s 13s/step - loss: 0.4901 - accuracy: 0.8161 - precision: 0.7930 - recall: 0.8554\n",
      "Epoch 3/10\n",
      "35/35 [==============================] - 503s 14s/step - loss: 0.4176 - accuracy: 0.8661 - precision: 0.8559 - recall: 0.8804\n",
      "Epoch 4/10\n",
      "35/35 [==============================] - 504s 14s/step - loss: 0.3772 - accuracy: 0.8786 - precision: 0.8643 - recall: 0.8982\n",
      "Epoch 5/10\n",
      "35/35 [==============================] - 509s 15s/step - loss: 0.3501 - accuracy: 0.8920 - precision: 0.8804 - recall: 0.9071\n",
      "Epoch 6/10\n",
      "35/35 [==============================] - 553s 16s/step - loss: 0.3284 - accuracy: 0.8920 - precision: 0.8791 - recall: 0.9089\n",
      "Epoch 7/10\n",
      "35/35 [==============================] - 501s 14s/step - loss: 0.3098 - accuracy: 0.9045 - precision: 0.8953 - recall: 0.9161\n",
      "Epoch 8/10\n",
      "35/35 [==============================] - 504s 14s/step - loss: 0.2944 - accuracy: 0.9062 - precision: 0.8902 - recall: 0.9268\n",
      "Epoch 9/10\n",
      "35/35 [==============================] - 512s 15s/step - loss: 0.2870 - accuracy: 0.9045 - precision: 0.8885 - recall: 0.9250\n",
      "Epoch 10/10\n",
      "35/35 [==============================] - 526s 15s/step - loss: 0.2828 - accuracy: 0.9107 - precision: 0.8993 - recall: 0.9250\n"
     ]
    },
    {
     "data": {
      "text/plain": [
       "<keras.callbacks.History at 0x233eaa87790>"
      ]
     },
     "execution_count": 49,
     "metadata": {},
     "output_type": "execute_result"
    }
   ],
   "source": [
    "model.fit(X_train,y_train,epochs=10)"
   ]
  },
  {
   "cell_type": "code",
   "execution_count": 50,
   "id": "126da364-c929-40bd-a4b8-8d346c7a1877",
   "metadata": {},
   "outputs": [
    {
     "name": "stdout",
     "output_type": "stream",
     "text": [
      "12/12 [==============================] - 149s 12s/step - loss: 0.2590 - accuracy: 0.9171 - precision: 0.9382 - recall: 0.8930\n"
     ]
    },
    {
     "data": {
      "text/plain": [
       "[0.25898486375808716,\n",
       " 0.9171122908592224,\n",
       " 0.9382022619247437,\n",
       " 0.893048107624054]"
      ]
     },
     "execution_count": 50,
     "metadata": {},
     "output_type": "execute_result"
    }
   ],
   "source": [
    "model.evaluate(X_test, y_test)"
   ]
  },
  {
   "cell_type": "code",
   "execution_count": 51,
   "id": "0e4525b8-8d2c-41e9-8c98-19a94f1340df",
   "metadata": {},
   "outputs": [
    {
     "name": "stdout",
     "output_type": "stream",
     "text": [
      "12/12 [==============================] - 146s 12s/step\n"
     ]
    }
   ],
   "source": [
    "y_predicted = model.predict(X_test)\n",
    "y_predicted = y_predicted.flatten()"
   ]
  },
  {
   "cell_type": "code",
   "execution_count": 52,
   "id": "943217e5-522d-4e75-8f59-f695c3ce7f74",
   "metadata": {},
   "outputs": [
    {
     "data": {
      "text/plain": [
       "array([0, 1, 1, 1, 0, 1, 1, 1, 0, 0, 1, 1, 0, 1, 1, 0, 1, 0, 1, 0, 0, 0,\n",
       "       0, 1, 0, 1, 1, 1, 0, 1, 1, 1, 1, 0, 0, 0, 1, 0, 0, 0, 0, 1, 0, 1,\n",
       "       1, 1, 0, 1, 0, 0, 1, 0, 1, 0, 0, 0, 1, 0, 0, 0, 1, 1, 1, 0, 0, 1,\n",
       "       1, 0, 1, 1, 1, 0, 0, 1, 1, 1, 0, 1, 1, 0, 0, 0, 1, 1, 0, 1, 1, 1,\n",
       "       1, 0, 1, 0, 0, 1, 1, 0, 0, 1, 1, 1, 1, 1, 0, 1, 1, 0, 0, 1, 0, 1,\n",
       "       1, 1, 0, 0, 0, 0, 0, 0, 1, 1, 1, 0, 0, 1, 1, 0, 0, 0, 1, 1, 0, 0,\n",
       "       0, 0, 0, 0, 1, 1, 1, 1, 0, 1, 1, 0, 0, 0, 0, 0, 1, 1, 0, 1, 1, 0,\n",
       "       0, 0, 0, 0, 1, 1, 1, 0, 1, 0, 0, 1, 1, 0, 0, 0, 1, 1, 0, 0, 0, 0,\n",
       "       1, 1, 1, 1, 1, 1, 1, 1, 1, 0, 0, 0, 1, 1, 0, 0, 0, 1, 0, 0, 1, 1,\n",
       "       0, 0, 0, 1, 0, 1, 1, 0, 1, 0, 0, 1, 0, 1, 0, 1, 0, 0, 1, 1, 0, 1,\n",
       "       1, 0, 0, 1, 0, 0, 0, 1, 0, 1, 1, 0, 0, 1, 1, 1, 0, 1, 1, 0, 1, 0,\n",
       "       0, 0, 0, 0, 1, 0, 1, 1, 0, 1, 1, 0, 0, 0, 0, 0, 1, 1, 0, 0, 0, 1,\n",
       "       0, 0, 1, 0, 0, 1, 0, 1, 0, 1, 1, 0, 0, 0, 1, 1, 0, 0, 0, 1, 1, 0,\n",
       "       1, 1, 0, 0, 0, 0, 1, 1, 0, 1, 1, 0, 0, 0, 1, 0, 1, 0, 0, 1, 0, 0,\n",
       "       0, 1, 1, 0, 0, 1, 0, 1, 1, 1, 0, 0, 0, 0, 1, 1, 1, 1, 1, 0, 0, 1,\n",
       "       0, 0, 0, 0, 0, 0, 1, 0, 1, 0, 0, 0, 1, 0, 0, 0, 1, 1, 0, 1, 1, 1,\n",
       "       0, 1, 0, 0, 0, 1, 0, 1, 0, 1, 0, 0, 0, 1, 1, 1, 0, 1, 0, 0, 1, 1])"
      ]
     },
     "execution_count": 52,
     "metadata": {},
     "output_type": "execute_result"
    }
   ],
   "source": [
    "import numpy as np\n",
    "\n",
    "y_predicted = np.where(y_predicted > 0.5, 1, 0)\n",
    "y_predicted"
   ]
  },
  {
   "cell_type": "code",
   "execution_count": 53,
   "id": "f903c5e8-c102-439a-a26a-c3a41857a71c",
   "metadata": {},
   "outputs": [
    {
     "data": {
      "text/plain": [
       "array([[176,  11],\n",
       "       [ 20, 167]], dtype=int64)"
      ]
     },
     "execution_count": 53,
     "metadata": {},
     "output_type": "execute_result"
    }
   ],
   "source": [
    "from sklearn.metrics import confusion_matrix, classification_report\n",
    "\n",
    "cm = confusion_matrix(y_test, y_predicted)\n",
    "cm "
   ]
  },
  {
   "cell_type": "code",
   "execution_count": 54,
   "id": "3a072f8d-f0e7-4ae5-83df-b751a6ab2bdc",
   "metadata": {},
   "outputs": [
    {
     "data": {
      "text/plain": [
       "Text(50.722222222222214, 0.5, 'Truth')"
      ]
     },
     "execution_count": 54,
     "metadata": {},
     "output_type": "execute_result"
    },
    {
     "data": {
      "image/png": "[encoded data removed]",
      "text/plain": [
       "<Figure size 640x480 with 2 Axes>"
      ]
     },
     "metadata": {},
     "output_type": "display_data"
    }
   ],
   "source": [
    "from matplotlib import pyplot as plt\n",
    "import seaborn as sn\n",
    "sn.heatmap(cm, annot=True, fmt='d')\n",
    "plt.xlabel('Predicted')\n",
    "plt.ylabel('Truth')"
   ]
  },
  {
   "cell_type": "code",
   "execution_count": 55,
   "id": "0d64d541-d450-4aa6-9c1d-4fffca3802bc",
   "metadata": {},
   "outputs": [
    {
     "name": "stdout",
     "output_type": "stream",
     "text": [
      "              precision    recall  f1-score   support\n",
      "\n",
      "           0       0.90      0.94      0.92       187\n",
      "           1       0.94      0.89      0.92       187\n",
      "\n",
      "    accuracy                           0.92       374\n",
      "   macro avg       0.92      0.92      0.92       374\n",
      "weighted avg       0.92      0.92      0.92       374\n",
      "\n"
     ]
    }
   ],
   "source": [
    "print(classification_report(y_test, y_predicted))\n"
   ]
  },
  {
   "cell_type": "markdown",
   "id": "3aee6dfd-f3c2-492c-9c63-7fe2888d6288",
   "metadata": {},
   "source": [
    "### Inference"
   ]
  },
  {
   "cell_type": "code",
   "execution_count": 56,
   "id": "580cb3c7-2cb6-4615-8c9c-d427636f7f93",
   "metadata": {},
   "outputs": [
    {
     "name": "stdout",
     "output_type": "stream",
     "text": [
      "1/1 [==============================] - 11s 11s/step\n"
     ]
    },
    {
     "data": {
      "text/plain": [
       "array([[0.7193292 ],\n",
       "       [0.7850189 ],\n",
       "       [0.7339078 ],\n",
       "       [0.18383817],\n",
       "       [0.09550633]], dtype=float32)"
      ]
     },
     "execution_count": 56,
     "metadata": {},
     "output_type": "execute_result"
    }
   ],
   "source": [
    "reviews = [\n",
    "    'Enter a chance to win $5000, hurry up, offer valid until march 31, 2021',\n",
    "    'You are awarded a SiPix Digital Camera! call 09061221061 from landline. Delivery within 28days. T Cs Box177. M221BP. 2yr warranty. 150ppm. 16 . p pÂ£3.99',\n",
    "    'it to 80488. Your 500 free text messages are valid until 31 December 2005.',\n",
    "    'Hey Sam, Are you coming for a cricket game tomorrow',\n",
    "    \"Why don't you wait 'til at least wednesday to see if you get your .\"\n",
    "]\n",
    "model.predict(reviews)"
   ]
  },
  {
   "cell_type": "markdown",
   "id": "d45b5ff6-306e-4d9c-b863-2e1efddaf80d",
   "metadata": {},
   "source": [
    "### Save the model"
   ]
  },
  {
   "cell_type": "code",
   "execution_count": null,
   "id": "70c128d6-f1f6-4725-abc0-71a49cfbf25b",
   "metadata": {},
   "outputs": [],
   "source": [
    "model.save(\"/saved_model/2\")"
   ]
  },
  {
   "cell_type": "code",
   "execution_count": null,
   "id": "ff62c8d3-723f-41f7-9a84-8eaa34a7f513",
   "metadata": {},
   "outputs": [],
   "source": [
    "model.save(\"/saved_model/3\")"
   ]
  },
  {
   "cell_type": "code",
   "execution_count": null,
   "id": "a8c31190-0b22-4ca8-aff8-55440df04054",
   "metadata": {},
   "outputs": [],
   "source": []
  }
 ],
 "metadata": {
  "kernelspec": {
   "display_name": "Python 3 (ipykernel)",
   "language": "python",
   "name": "python3"
  },
  "language_info": {
   "codemirror_mode": {
    "name": "ipython",
    "version": 3
   },
   "file_extension": ".py",
   "mimetype": "text/x-python",
   "name": "python",
   "nbconvert_exporter": "python",
   "pygments_lexer": "ipython3",
   "version": "3.10.11"
  }
 },
 "nbformat": 4,
 "nbformat_minor": 5
}
